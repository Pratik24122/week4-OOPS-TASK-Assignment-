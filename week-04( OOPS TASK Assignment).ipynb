{
 "cells": [
  {
   "cell_type": "markdown",
   "id": "05d87a92",
   "metadata": {},
   "source": [
    "### Q1"
   ]
  },
  {
   "cell_type": "code",
   "execution_count": 2,
   "id": "de77295b",
   "metadata": {},
   "outputs": [],
   "source": [
    "class vehicle:\n",
    "    \n",
    "    def __init__(self,name_of_vehicle,max_speed,average_of_vehicle):\n",
    "        self.name_of_vehicle=name_of_vehicle\n",
    "        self.max_speed=max_speed\n",
    "        self.average_of_vehicle=average_of_vehicle\n",
    "        "
   ]
  },
  {
   "cell_type": "code",
   "execution_count": 3,
   "id": "72ae7711",
   "metadata": {},
   "outputs": [],
   "source": [
    "obj=vehicle('Swift',120,15.6)"
   ]
  },
  {
   "cell_type": "markdown",
   "id": "6db9198a",
   "metadata": {},
   "source": [
    "### Q2"
   ]
  },
  {
   "cell_type": "code",
   "execution_count": 4,
   "id": "20449803",
   "metadata": {},
   "outputs": [],
   "source": [
    "class car(vehicle):\n",
    "    def seating_capacity(self,capacity):\n",
    "        self.capacity=capacity\n",
    "        return self.name_of_vehicle,self.capacity\n",
    "        "
   ]
  },
  {
   "cell_type": "code",
   "execution_count": 7,
   "id": "afec1e55",
   "metadata": {},
   "outputs": [],
   "source": [
    "obj1=car('innova',100,12.43)"
   ]
  },
  {
   "cell_type": "code",
   "execution_count": 8,
   "id": "45e1f7af",
   "metadata": {},
   "outputs": [
    {
     "data": {
      "text/plain": [
       "('innova', 7)"
      ]
     },
     "execution_count": 8,
     "metadata": {},
     "output_type": "execute_result"
    }
   ],
   "source": [
    "obj1.seating_capacity(7)"
   ]
  },
  {
   "cell_type": "markdown",
   "id": "adb0ad83",
   "metadata": {},
   "source": [
    "### Q3"
   ]
  },
  {
   "cell_type": "code",
   "execution_count": 9,
   "id": "8c9760f6",
   "metadata": {},
   "outputs": [],
   "source": [
    "#multiple inheritance is a feature of object oriented programming language. It allows a class or object to inherite features from one or more parent classes."
   ]
  },
  {
   "cell_type": "code",
   "execution_count": 15,
   "id": "95f945a7",
   "metadata": {},
   "outputs": [],
   "source": [
    "#example\n",
    "class Employee:\n",
    "    def employee_details(self,name,department,salary):\n",
    "        self.name=name\n",
    "        self.department=department\n",
    "        self.salary=salary\n",
    "        \n",
    "        \n",
    "        "
   ]
  },
  {
   "cell_type": "code",
   "execution_count": 23,
   "id": "0aaf976c",
   "metadata": {},
   "outputs": [],
   "source": [
    "class Employee_personal_details:\n",
    "    def details(self,age,weight,mobile_no):\n",
    "        self.age=age\n",
    "        self.weight=weight\n",
    "        self.mobile_no=mobile_no\n",
    "       \t"
   ]
  },
  {
   "cell_type": "code",
   "execution_count": 24,
   "id": "402cbbae",
   "metadata": {},
   "outputs": [],
   "source": [
    "class Employee_details(Employee,Employee_personal_details):\n",
    "    def All_details(self):\n",
    "        return self.name,self.department,self.salary,self.age,self.weight, self.mobile_no"
   ]
  },
  {
   "cell_type": "code",
   "execution_count": 25,
   "id": "686b94a3",
   "metadata": {},
   "outputs": [],
   "source": [
    "obj=Employee_details()"
   ]
  },
  {
   "cell_type": "code",
   "execution_count": 26,
   "id": "d887c9bf",
   "metadata": {},
   "outputs": [],
   "source": [
    "obj.employee_details('Pratik','Sales',20000)"
   ]
  },
  {
   "cell_type": "code",
   "execution_count": 27,
   "id": "9fd99899",
   "metadata": {},
   "outputs": [],
   "source": [
    "obj.details(23,45,808657826)"
   ]
  },
  {
   "cell_type": "code",
   "execution_count": 28,
   "id": "e7459c3a",
   "metadata": {},
   "outputs": [
    {
     "data": {
      "text/plain": [
       "('Pratik', 'Sales', 20000, 23, 45, 808657826)"
      ]
     },
     "execution_count": 28,
     "metadata": {},
     "output_type": "execute_result"
    }
   ],
   "source": [
    "obj.All_details()"
   ]
  },
  {
   "cell_type": "markdown",
   "id": "5ad07a17",
   "metadata": {},
   "source": [
    "### Q4"
   ]
  },
  {
   "cell_type": "code",
   "execution_count": 1,
   "id": "795e6167",
   "metadata": {},
   "outputs": [],
   "source": [
    "#Getter and setter in Python are methods that allow us to access and modify the private attributes of a class. Private attributes are those that start with a double underscore (__), such as __name or __age."
   ]
  },
  {
   "cell_type": "code",
   "execution_count": 6,
   "id": "c15cfe60",
   "metadata": {},
   "outputs": [],
   "source": [
    "class bank:\n",
    "    def __init__(self,account_no,nominee_name):\n",
    "        self._account_no=account_no\n",
    "        self.__nominee_name=nominee_name\n",
    "    @property    \n",
    "    def nominee_name(self):\n",
    "        return self.__nominee_name\n",
    "    @nominee_name.setter\n",
    "    def set_nominee_name(self,new_name):\n",
    "        self.__nominee_name=new_name"
   ]
  },
  {
   "cell_type": "code",
   "execution_count": 7,
   "id": "26e349cd",
   "metadata": {},
   "outputs": [],
   "source": [
    "abc=bank(12345678,'Pratik')"
   ]
  },
  {
   "cell_type": "code",
   "execution_count": 8,
   "id": "a9cc5a2d",
   "metadata": {},
   "outputs": [
    {
     "data": {
      "text/plain": [
       "'Pratik'"
      ]
     },
     "execution_count": 8,
     "metadata": {},
     "output_type": "execute_result"
    }
   ],
   "source": [
    "abc.nominee_name"
   ]
  },
  {
   "cell_type": "code",
   "execution_count": 10,
   "id": "9f1e37ab",
   "metadata": {},
   "outputs": [],
   "source": [
    "abc.set_nominee_name='Yash'"
   ]
  },
  {
   "cell_type": "code",
   "execution_count": 11,
   "id": "0f4e3e4c",
   "metadata": {},
   "outputs": [
    {
     "data": {
      "text/plain": [
       "'Yash'"
      ]
     },
     "execution_count": 11,
     "metadata": {},
     "output_type": "execute_result"
    }
   ],
   "source": [
    "abc.nominee_name"
   ]
  },
  {
   "cell_type": "markdown",
   "id": "a157a8fa",
   "metadata": {},
   "source": [
    "### Q5"
   ]
  },
  {
   "cell_type": "code",
   "execution_count": null,
   "id": "1c4cf57f",
   "metadata": {},
   "outputs": [],
   "source": []
  }
 ],
 "metadata": {
  "kernelspec": {
   "display_name": "Python 3 (ipykernel)",
   "language": "python",
   "name": "python3"
  },
  "language_info": {
   "codemirror_mode": {
    "name": "ipython",
    "version": 3
   },
   "file_extension": ".py",
   "mimetype": "text/x-python",
   "name": "python",
   "nbconvert_exporter": "python",
   "pygments_lexer": "ipython3",
   "version": "3.9.13"
  }
 },
 "nbformat": 4,
 "nbformat_minor": 5
}
